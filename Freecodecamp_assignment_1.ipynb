{
  "nbformat": 4,
  "nbformat_minor": 0,
  "metadata": {
    "colab": {
      "name": "Freecodecamp assignment 1.ipynb",
      "provenance": []
    },
    "kernelspec": {
      "name": "python3",
      "display_name": "Python 3"
    }
  },
  "cells": [
    {
      "cell_type": "markdown",
      "metadata": {
        "id": "zvRDsQtlKdNR",
        "colab_type": "text"
      },
      "source": [
        "Assignment\n",
        "Create a function named calculate() in mean_var_std.py that uses Numpy to output the mean, variance, standard deviation, max, min, and sum of the rows, columns, and elements in a 3 x 3 matrix.\n",
        "\n",
        "The input of the function should be a list containing 9 digits. The function should convert the list into a 3 x 3 Numpy array, and then return a dictionary containing the mean, variance, standard deviation, max, min, and sum along both axes and for the flattened matrix.\n",
        "\n",
        "The returned dictionary should follow this format:\n",
        "\n",
        "\n",
        "\n",
        "\n",
        "```\n",
        "{\n",
        "  'mean': [axis1, axis2, flattened],\n",
        "  'variance': [axis1, axis2, flattened],\n",
        "  'standard deviation': [axis1, axis2, flattened],\n",
        "  'max': [axis1, axis2, flattened],\n",
        "  'min': [axis1, axis2, flattened],\n",
        "  'sum': [axis1, axis2, flattened]\n",
        "}\n",
        "```\n",
        "\n",
        "\n",
        "\n",
        "If a list containing less than 9 elements is passed into the function, it should raise a ValueError exception with the message: \"List must contain nine numbers.\" The values in the returned dictionary should be lists and not Numpy arrays."
      ]
    },
    {
      "cell_type": "code",
      "metadata": {
        "id": "rfy_FFcOKyP7",
        "colab_type": "code",
        "colab": {}
      },
      "source": [
        "import numpy as np\n"
      ],
      "execution_count": 1,
      "outputs": []
    },
    {
      "cell_type": "code",
      "metadata": {
        "id": "eG0GZRyUGO_M",
        "colab_type": "code",
        "colab": {}
      },
      "source": [
        "\n",
        "def calculate(list):\n",
        "  if(len(list) !=9):\n",
        "    raise ValueError('List must contain nine numbers.')\n",
        "\n",
        "  npArr = np.array(list).reshape(3,3)\n",
        "\n",
        "  return {\n",
        "    'mean' : [npArr.mean(axis=0).tolist(),npArr.mean(axis=1).tolist(),npArr.ravel().mean()],\n",
        "    'varience' : [npArr.var(axis=0).tolist(),npArr.var(axis=1).tolist(),npArr.ravel().var()],\n",
        "    'standard deviation' : [npArr.std(axis=0).tolist(),npArr.std(axis=1).tolist(),npArr.ravel().std()],\n",
        "    'max' : [npArr.max(axis=0).tolist(),npArr.max(axis=1).tolist(),npArr.ravel().max()],\n",
        "    'min' : [npArr.min(axis=0).tolist(),npArr.min(axis=1).tolist(),npArr.ravel().min()],\n",
        "    'sum' : [npArr.sum(axis=0).tolist(),npArr.sum(axis=1).tolist(),npArr.ravel().sum()]\n",
        "}\n",
        "\n",
        "\n",
        "\n",
        "\n",
        "\n"
      ],
      "execution_count": 2,
      "outputs": []
    },
    {
      "cell_type": "code",
      "metadata": {
        "id": "_ptnKvfxIApd",
        "colab_type": "code",
        "colab": {
          "base_uri": "https://localhost:8080/",
          "height": 212
        },
        "outputId": "9cfab09a-efc2-474d-97f0-32e56b59e874"
      },
      "source": [
        "list = [1,2,3,4,5,6,7,8,9]\n",
        "\n",
        "calculate(list)"
      ],
      "execution_count": 4,
      "outputs": [
        {
          "output_type": "execute_result",
          "data": {
            "text/plain": [
              "{'max': [[7, 8, 9], [3, 6, 9], 9],\n",
              " 'mean': [[4.0, 5.0, 6.0], [2.0, 5.0, 8.0], 5.0],\n",
              " 'min': [[1, 2, 3], [1, 4, 7], 1],\n",
              " 'standard deviation': [[2.449489742783178,\n",
              "   2.449489742783178,\n",
              "   2.449489742783178],\n",
              "  [0.816496580927726, 0.816496580927726, 0.816496580927726],\n",
              "  2.581988897471611],\n",
              " 'sum': [[12, 15, 18], [6, 15, 24], 45],\n",
              " 'varience': [[6.0, 6.0, 6.0],\n",
              "  [0.6666666666666666, 0.6666666666666666, 0.6666666666666666],\n",
              "  6.666666666666667]}"
            ]
          },
          "metadata": {
            "tags": []
          },
          "execution_count": 4
        }
      ]
    },
    {
      "cell_type": "code",
      "metadata": {
        "id": "2_Lr_Kt9KoJe",
        "colab_type": "code",
        "colab": {}
      },
      "source": [
        ""
      ],
      "execution_count": null,
      "outputs": []
    }
  ]
}