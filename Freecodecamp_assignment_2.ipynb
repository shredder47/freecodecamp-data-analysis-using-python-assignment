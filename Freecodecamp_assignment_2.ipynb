{
  "nbformat": 4,
  "nbformat_minor": 0,
  "metadata": {
    "colab": {
      "name": "Freecodecamp assignment 2.ipynb",
      "provenance": []
    },
    "kernelspec": {
      "name": "python3",
      "display_name": "Python 3"
    }
  },
  "cells": [
    {
      "cell_type": "code",
      "metadata": {
        "id": "yAvHjG2dO0L1",
        "colab_type": "code",
        "colab": {}
      },
      "source": [
        "import pandas as pd"
      ],
      "execution_count": 37,
      "outputs": []
    },
    {
      "cell_type": "code",
      "metadata": {
        "id": "Bb2oaexaPT2Z",
        "colab_type": "code",
        "colab": {}
      },
      "source": [
        "df = pd.read_csv('sample_data/adult.data.csv')"
      ],
      "execution_count": 38,
      "outputs": []
    },
    {
      "cell_type": "code",
      "metadata": {
        "id": "E8TaXPYAPn-q",
        "colab_type": "code",
        "colab": {
          "base_uri": "https://localhost:8080/",
          "height": 348
        },
        "outputId": "e102284e-cee4-440f-8fce-98fe3fbc57a6"
      },
      "source": [
        "df.head()"
      ],
      "execution_count": 39,
      "outputs": [
        {
          "output_type": "execute_result",
          "data": {
            "text/html": [
              "<div>\n",
              "<style scoped>\n",
              "    .dataframe tbody tr th:only-of-type {\n",
              "        vertical-align: middle;\n",
              "    }\n",
              "\n",
              "    .dataframe tbody tr th {\n",
              "        vertical-align: top;\n",
              "    }\n",
              "\n",
              "    .dataframe thead th {\n",
              "        text-align: right;\n",
              "    }\n",
              "</style>\n",
              "<table border=\"1\" class=\"dataframe\">\n",
              "  <thead>\n",
              "    <tr style=\"text-align: right;\">\n",
              "      <th></th>\n",
              "      <th>age</th>\n",
              "      <th>workclass</th>\n",
              "      <th>fnlwgt</th>\n",
              "      <th>education</th>\n",
              "      <th>education-num</th>\n",
              "      <th>marital-status</th>\n",
              "      <th>occupation</th>\n",
              "      <th>relationship</th>\n",
              "      <th>race</th>\n",
              "      <th>sex</th>\n",
              "      <th>capital-gain</th>\n",
              "      <th>capital-loss</th>\n",
              "      <th>hours-per-week</th>\n",
              "      <th>native-country</th>\n",
              "      <th>salary</th>\n",
              "    </tr>\n",
              "  </thead>\n",
              "  <tbody>\n",
              "    <tr>\n",
              "      <th>0</th>\n",
              "      <td>39</td>\n",
              "      <td>State-gov</td>\n",
              "      <td>77516</td>\n",
              "      <td>Bachelors</td>\n",
              "      <td>13</td>\n",
              "      <td>Never-married</td>\n",
              "      <td>Adm-clerical</td>\n",
              "      <td>Not-in-family</td>\n",
              "      <td>White</td>\n",
              "      <td>Male</td>\n",
              "      <td>2174</td>\n",
              "      <td>0</td>\n",
              "      <td>40</td>\n",
              "      <td>United-States</td>\n",
              "      <td>&lt;=50K</td>\n",
              "    </tr>\n",
              "    <tr>\n",
              "      <th>1</th>\n",
              "      <td>50</td>\n",
              "      <td>Self-emp-not-inc</td>\n",
              "      <td>83311</td>\n",
              "      <td>Bachelors</td>\n",
              "      <td>13</td>\n",
              "      <td>Married-civ-spouse</td>\n",
              "      <td>Exec-managerial</td>\n",
              "      <td>Husband</td>\n",
              "      <td>White</td>\n",
              "      <td>Male</td>\n",
              "      <td>0</td>\n",
              "      <td>0</td>\n",
              "      <td>13</td>\n",
              "      <td>United-States</td>\n",
              "      <td>&lt;=50K</td>\n",
              "    </tr>\n",
              "    <tr>\n",
              "      <th>2</th>\n",
              "      <td>38</td>\n",
              "      <td>Private</td>\n",
              "      <td>215646</td>\n",
              "      <td>HS-grad</td>\n",
              "      <td>9</td>\n",
              "      <td>Divorced</td>\n",
              "      <td>Handlers-cleaners</td>\n",
              "      <td>Not-in-family</td>\n",
              "      <td>White</td>\n",
              "      <td>Male</td>\n",
              "      <td>0</td>\n",
              "      <td>0</td>\n",
              "      <td>40</td>\n",
              "      <td>United-States</td>\n",
              "      <td>&lt;=50K</td>\n",
              "    </tr>\n",
              "    <tr>\n",
              "      <th>3</th>\n",
              "      <td>53</td>\n",
              "      <td>Private</td>\n",
              "      <td>234721</td>\n",
              "      <td>11th</td>\n",
              "      <td>7</td>\n",
              "      <td>Married-civ-spouse</td>\n",
              "      <td>Handlers-cleaners</td>\n",
              "      <td>Husband</td>\n",
              "      <td>Black</td>\n",
              "      <td>Male</td>\n",
              "      <td>0</td>\n",
              "      <td>0</td>\n",
              "      <td>40</td>\n",
              "      <td>United-States</td>\n",
              "      <td>&lt;=50K</td>\n",
              "    </tr>\n",
              "    <tr>\n",
              "      <th>4</th>\n",
              "      <td>28</td>\n",
              "      <td>Private</td>\n",
              "      <td>338409</td>\n",
              "      <td>Bachelors</td>\n",
              "      <td>13</td>\n",
              "      <td>Married-civ-spouse</td>\n",
              "      <td>Prof-specialty</td>\n",
              "      <td>Wife</td>\n",
              "      <td>Black</td>\n",
              "      <td>Female</td>\n",
              "      <td>0</td>\n",
              "      <td>0</td>\n",
              "      <td>40</td>\n",
              "      <td>Cuba</td>\n",
              "      <td>&lt;=50K</td>\n",
              "    </tr>\n",
              "  </tbody>\n",
              "</table>\n",
              "</div>"
            ],
            "text/plain": [
              "   age         workclass  fnlwgt  ... hours-per-week  native-country salary\n",
              "0   39         State-gov   77516  ...             40   United-States  <=50K\n",
              "1   50  Self-emp-not-inc   83311  ...             13   United-States  <=50K\n",
              "2   38           Private  215646  ...             40   United-States  <=50K\n",
              "3   53           Private  234721  ...             40   United-States  <=50K\n",
              "4   28           Private  338409  ...             40            Cuba  <=50K\n",
              "\n",
              "[5 rows x 15 columns]"
            ]
          },
          "metadata": {
            "tags": []
          },
          "execution_count": 39
        }
      ]
    },
    {
      "cell_type": "code",
      "metadata": {
        "id": "Qqx1Zo9LxXvQ",
        "colab_type": "code",
        "colab": {
          "base_uri": "https://localhost:8080/",
          "height": 35
        },
        "outputId": "598ee7f1-2515-45ac-9d83-8d370dd99d7e"
      },
      "source": [
        "# What is the average age of men?\n",
        "menFilter = df['sex'] == 'Male'\n",
        "average_age_men = df.loc[menFilter,'age'].mean()\n",
        "print(average_age_men)"
      ],
      "execution_count": 40,
      "outputs": [
        {
          "output_type": "stream",
          "text": [
            "39.43354749885268\n"
          ],
          "name": "stdout"
        }
      ]
    },
    {
      "cell_type": "code",
      "metadata": {
        "id": "AQbtOvtBYk9h",
        "colab_type": "code",
        "colab": {
          "base_uri": "https://localhost:8080/",
          "height": 35
        },
        "outputId": "8fba6ea7-e0fb-4541-86e8-5428a102fa19"
      },
      "source": [
        "# What is the percentage of people who have a Bachelor's degree?\n",
        "\n",
        "percentage_bachelors = (df['education'].value_counts(normalize=True)['Bachelors']) * 100\n",
        "print(percentage_bachelors)"
      ],
      "execution_count": 41,
      "outputs": [
        {
          "output_type": "stream",
          "text": [
            "16.44605509658794\n"
          ],
          "name": "stdout"
        }
      ]
    },
    {
      "cell_type": "code",
      "metadata": {
        "id": "l8tiYaewza12",
        "colab_type": "code",
        "colab": {}
      },
      "source": [
        "# What percentage of people with advanced education (`Bachelors`, `Masters`, or `Doctorate`) make more than 50K?\n",
        "# What percentage of people without advanced education make more than 50K?\n",
        "# with and without `Bachelors`, `Masters`, or `Doctorate`\n",
        "\n",
        "higherEducationFilter = df['education'].isin([\"Bachelors\", \"Masters\", \"Doctorate\"])\n",
        "\n",
        "higher_education = df.loc[higherEducationFilter]\n",
        "lower_education = df.loc[~higherEducationFilter]\n",
        "\n",
        "# percentage with salary >50K\n",
        "higher_education_rich = higher_education['salary'].value_counts(normalize=True)['>50K'] * 100\n",
        "\n",
        "lower_education_rich = lower_education['salary'].value_counts(normalize=True)['>50K'] * 100"
      ],
      "execution_count": 42,
      "outputs": []
    },
    {
      "cell_type": "code",
      "metadata": {
        "id": "d_cTl7K60sC3",
        "colab_type": "code",
        "colab": {}
      },
      "source": [
        "# What is the minimum number of hours a person works per week (hours-per-week feature)?\n",
        "min_work_hours = df['hours-per-week'].min()\n",
        "\n",
        "# What percentage of the people who work the minimum number of hours per week have a salary of >50K?\n",
        "minWorkFilter = df['hours-per-week'] == df['hours-per-week'].min()\n",
        "\n",
        "rich_percentage = df.loc[minWorkFilter]['salary'].value_counts(normalize = True)['>50K'] * 100"
      ],
      "execution_count": 43,
      "outputs": []
    },
    {
      "cell_type": "code",
      "metadata": {
        "id": "DqjGEdE-5ihs",
        "colab_type": "code",
        "colab": {
          "base_uri": "https://localhost:8080/",
          "height": 90
        },
        "outputId": "f03734a0-d961-4742-e415-a8d32fa4d388"
      },
      "source": [
        "# What country has the highest percentage of people that earn >50K?\n",
        "mask = df.salary == \">50K\"\n",
        "df.loc[mask,'native-country'].value_counts().head(3) # Top 3 count of people getting >50K by country\n"
      ],
      "execution_count": 44,
      "outputs": [
        {
          "output_type": "execute_result",
          "data": {
            "text/plain": [
              "United-States    7171\n",
              "?                 146\n",
              "Philippines        61\n",
              "Name: native-country, dtype: int64"
            ]
          },
          "metadata": {
            "tags": []
          },
          "execution_count": 44
        }
      ]
    },
    {
      "cell_type": "code",
      "metadata": {
        "id": "LX4jFzn_rX9G",
        "colab_type": "code",
        "colab": {
          "base_uri": "https://localhost:8080/",
          "height": 90
        },
        "outputId": "f5526bc7-0085-4671-b551-04bd2217a76c"
      },
      "source": [
        "df.loc[:,'native-country'].value_counts().head(3) # Top 3 count of all people by country"
      ],
      "execution_count": 45,
      "outputs": [
        {
          "output_type": "execute_result",
          "data": {
            "text/plain": [
              "United-States    29170\n",
              "Mexico             643\n",
              "?                  583\n",
              "Name: native-country, dtype: int64"
            ]
          },
          "metadata": {
            "tags": []
          },
          "execution_count": 45
        }
      ]
    },
    {
      "cell_type": "code",
      "metadata": {
        "id": "LyRCzX36tZPW",
        "colab_type": "code",
        "colab": {
          "base_uri": "https://localhost:8080/",
          "height": 126
        },
        "outputId": "827680a4-4d97-47a3-f409-69ef00804626"
      },
      "source": [
        "# Getting percentage of getting >50K i.e  count( >50k) / count(everyOne)\n",
        "\n",
        "# Here division will hapeen by above condition, index aligmnet will by happned automartically\n",
        "result = (df.loc[mask,'native-country'].value_counts()/df.loc[:,'native-country'].value_counts())\n",
        "result.head(5)"
      ],
      "execution_count": 46,
      "outputs": [
        {
          "output_type": "execute_result",
          "data": {
            "text/plain": [
              "?           0.250429\n",
              "Cambodia    0.368421\n",
              "Canada      0.322314\n",
              "China       0.266667\n",
              "Columbia    0.033898\n",
              "Name: native-country, dtype: float64"
            ]
          },
          "metadata": {
            "tags": []
          },
          "execution_count": 46
        }
      ]
    },
    {
      "cell_type": "code",
      "metadata": {
        "id": "kQ41UxMTuYdg",
        "colab_type": "code",
        "colab": {
          "base_uri": "https://localhost:8080/",
          "height": 90
        },
        "outputId": "4f04f65f-f841-40b8-eac5-8d348c439046"
      },
      "source": [
        "# THe above output is sorted by index, but we need to sort by value to get the top \n",
        "result.sort_values(ascending = False).head(3) # returns Top 3"
      ],
      "execution_count": 47,
      "outputs": [
        {
          "output_type": "execute_result",
          "data": {
            "text/plain": [
              "Iran      0.418605\n",
              "France    0.413793\n",
              "India     0.400000\n",
              "Name: native-country, dtype: float64"
            ]
          },
          "metadata": {
            "tags": []
          },
          "execution_count": 47
        }
      ]
    },
    {
      "cell_type": "code",
      "metadata": {
        "id": "y43R9Nc8u3mn",
        "colab_type": "code",
        "colab": {
          "base_uri": "https://localhost:8080/",
          "height": 35
        },
        "outputId": "225fa443-fae1-4ad2-92e4-dfeea4123442"
      },
      "source": [
        "# Lets get the top country now!\n",
        "\n",
        "country_name = result.sort_values(ascending = False).index[0]\n",
        "print(country_name)"
      ],
      "execution_count": 48,
      "outputs": [
        {
          "output_type": "stream",
          "text": [
            "Iran\n"
          ],
          "name": "stdout"
        }
      ]
    },
    {
      "cell_type": "code",
      "metadata": {
        "id": "2RM_AFhamgrG",
        "colab_type": "code",
        "colab": {
          "base_uri": "https://localhost:8080/",
          "height": 35
        },
        "outputId": "5ef5503a-23fa-48d7-93b2-e5cfdf70a8ed"
      },
      "source": [
        "# getting the value by passing the country name(Index Label) to the Result Series calculated few steps back\n",
        "highest_earning_country_percentage = round(result.loc[country_name] * 100,1)\n",
        "highest_earning_country_percentage"
      ],
      "execution_count": 49,
      "outputs": [
        {
          "output_type": "execute_result",
          "data": {
            "text/plain": [
              "41.9"
            ]
          },
          "metadata": {
            "tags": []
          },
          "execution_count": 49
        }
      ]
    },
    {
      "cell_type": "code",
      "metadata": {
        "id": "HE3Z16Zs9aPF",
        "colab_type": "code",
        "colab": {
          "base_uri": "https://localhost:8080/",
          "height": 36
        },
        "outputId": "efcae0e5-dcd2-411a-c62c-f8daaf6abd81"
      },
      "source": [
        "# Identify the most popular occupation for those who earn >50K in India.\n",
        "indianAnd50KSal = peopleWith50KSalaryFilter & (df['native-country'] == 'India')\n",
        "df.loc[indianAnd50KSal,'occupation'].value_counts().index[0]\n"
      ],
      "execution_count": 50,
      "outputs": [
        {
          "output_type": "execute_result",
          "data": {
            "application/vnd.google.colaboratory.intrinsic+json": {
              "type": "string"
            },
            "text/plain": [
              "'Prof-specialty'"
            ]
          },
          "metadata": {
            "tags": []
          },
          "execution_count": 50
        }
      ]
    },
    {
      "cell_type": "code",
      "metadata": {
        "id": "Yf9APg1wBsS6",
        "colab_type": "code",
        "colab": {}
      },
      "source": [
        ""
      ],
      "execution_count": 50,
      "outputs": []
    }
  ]
}