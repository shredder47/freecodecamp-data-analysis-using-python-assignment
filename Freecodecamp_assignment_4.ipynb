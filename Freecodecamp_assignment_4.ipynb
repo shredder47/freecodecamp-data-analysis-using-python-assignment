{
  "nbformat": 4,
  "nbformat_minor": 0,
  "metadata": {
    "colab": {
      "name": "Freecodecamp assignment 4.ipynb",
      "provenance": [],
      "collapsed_sections": []
    },
    "kernelspec": {
      "name": "python3",
      "display_name": "Python 3"
    }
  },
  "cells": [
    {
      "cell_type": "markdown",
      "metadata": {
        "id": "SG5O9L7YlLtQ",
        "colab_type": "text"
      },
      "source": [
        "\n",
        "\n",
        "```\n",
        "### Assignment\n",
        "\n",
        "For this project you will visualize time series data using a line chart, bar chart, and box plots. You will use Pandas, Matplotlib, and Seaborn to visualize a dataset containing the number of page views each day on the freeCodeCamp.org forum from 2016-05-09 to 2019-12-03. The data visualizations will help you understand the patterns in visits and identify yearly and monthly growth.\n",
        "\n",
        "Use the data to complete the following tasks:\n",
        "* Use Pandas to import the data from \"fcc-forum-pageviews.csv\". Set the index to the \"date\" column.\n",
        "* Clean the data by filtering out days when the page views were in the top 2.5% of the dataset or bottom 2.5% of the dataset.\n",
        "* Create a `draw_line_plot` function that uses Matplotlib to draw a line chart similar to \"examples/Figure_1.png\". The title should be \"Daily freeCodeCamp Forum Page Views 5/2016-12/2019\". The label on the x axis should be \"Date\" and the label on the y axis should be \"Page Views\".\n",
        "* Create a `draw_bar_plot` function that draws a bar chart similar to \"examples/Figure_2.png\". It should show average daily page views for each month grouped by year. The legend should show month labels and have a title of \"Months\". On the chart, the label on the x axis should be \"Years\" and the label on the y axis should be \"Average Page Views\".\n",
        "* Create a `draw_box_plot` function that uses Searborn to draw two adjacent box plots similar to \"examples/Figure_3.png\". These box plots should show how the values are distributed within a given year or month and how it compares over time. The title of the first chart should be \"Year-wise Box Plot (Trend)\" and the title of the second chart should be \"Month-wise Box Plot (Seasonality)\". Make sure the month labels on bottom start at \"Jan\" and the x and x axis are labeled correctly.\n",
        "\n",
        "```\n",
        "\n"
      ]
    },
    {
      "cell_type": "code",
      "metadata": {
        "id": "cUkvofFcitvk",
        "colab_type": "code",
        "colab": {}
      },
      "source": [
        "import matplotlib.pyplot as plt\n",
        "import pandas as pd\n",
        "import seaborn as sns\n",
        "from pandas.plotting import register_matplotlib_converters\n",
        "register_matplotlib_converters()\n"
      ],
      "execution_count": null,
      "outputs": []
    },
    {
      "cell_type": "code",
      "metadata": {
        "id": "NoGrx2tulYQq",
        "colab_type": "code",
        "colab": {}
      },
      "source": [
        "# Import data (Make sure to parse dates. Consider setting index column to 'date'.)\n",
        "data = pd.read_csv('sample_data/fcc-forum-pageviews.csv',index_col='date',parse_dates=['date'])\n"
      ],
      "execution_count": null,
      "outputs": []
    },
    {
      "cell_type": "code",
      "metadata": {
        "id": "EHo7lHebl02V",
        "colab_type": "code",
        "colab": {
          "base_uri": "https://localhost:8080/",
          "height": 146
        },
        "outputId": "696a3a03-854e-4f87-d929-257be89da395"
      },
      "source": [
        "data.head(2)"
      ],
      "execution_count": null,
      "outputs": [
        {
          "output_type": "execute_result",
          "data": {
            "text/html": [
              "<div>\n",
              "<style scoped>\n",
              "    .dataframe tbody tr th:only-of-type {\n",
              "        vertical-align: middle;\n",
              "    }\n",
              "\n",
              "    .dataframe tbody tr th {\n",
              "        vertical-align: top;\n",
              "    }\n",
              "\n",
              "    .dataframe thead th {\n",
              "        text-align: right;\n",
              "    }\n",
              "</style>\n",
              "<table border=\"1\" class=\"dataframe\">\n",
              "  <thead>\n",
              "    <tr style=\"text-align: right;\">\n",
              "      <th></th>\n",
              "      <th>value</th>\n",
              "    </tr>\n",
              "    <tr>\n",
              "      <th>date</th>\n",
              "      <th></th>\n",
              "    </tr>\n",
              "  </thead>\n",
              "  <tbody>\n",
              "    <tr>\n",
              "      <th>2016-05-09</th>\n",
              "      <td>1201</td>\n",
              "    </tr>\n",
              "    <tr>\n",
              "      <th>2016-05-10</th>\n",
              "      <td>2329</td>\n",
              "    </tr>\n",
              "  </tbody>\n",
              "</table>\n",
              "</div>"
            ],
            "text/plain": [
              "            value\n",
              "date             \n",
              "2016-05-09   1201\n",
              "2016-05-10   2329"
            ]
          },
          "metadata": {
            "tags": []
          },
          "execution_count": 292
        }
      ]
    },
    {
      "cell_type": "code",
      "metadata": {
        "id": "Kywem9FjmMHn",
        "colab_type": "code",
        "colab": {
          "base_uri": "https://localhost:8080/",
          "height": 36
        },
        "outputId": "ccc836da-cd5c-40ce-8e44-fa2118c3861f"
      },
      "source": [
        "#Checking if there are any null values or not \n",
        "data.value.isnull().any()"
      ],
      "execution_count": null,
      "outputs": [
        {
          "output_type": "execute_result",
          "data": {
            "text/plain": [
              "False"
            ]
          },
          "metadata": {
            "tags": []
          },
          "execution_count": 293
        }
      ]
    },
    {
      "cell_type": "code",
      "metadata": {
        "id": "CljkFhJimTMb",
        "colab_type": "code",
        "colab": {
          "base_uri": "https://localhost:8080/",
          "height": 36
        },
        "outputId": "dbbcd205-25f5-446a-a672-8a39a41de9af"
      },
      "source": [
        "#shape \n",
        "data.shape"
      ],
      "execution_count": null,
      "outputs": [
        {
          "output_type": "execute_result",
          "data": {
            "text/plain": [
              "(1304, 1)"
            ]
          },
          "metadata": {
            "tags": []
          },
          "execution_count": 294
        }
      ]
    },
    {
      "cell_type": "code",
      "metadata": {
        "id": "kHGrNZKSnIDc",
        "colab_type": "code",
        "colab": {
          "base_uri": "https://localhost:8080/",
          "height": 36
        },
        "outputId": "f911427b-9e51-47ac-b166-b31f150be272"
      },
      "source": [
        "data.value.quantile(0.025)"
      ],
      "execution_count": null,
      "outputs": [
        {
          "output_type": "execute_result",
          "data": {
            "text/plain": [
              "17876.4"
            ]
          },
          "metadata": {
            "tags": []
          },
          "execution_count": 295
        }
      ]
    },
    {
      "cell_type": "code",
      "metadata": {
        "id": "-2c0MOthnRjf",
        "colab_type": "code",
        "colab": {
          "base_uri": "https://localhost:8080/",
          "height": 36
        },
        "outputId": "d419d224-abc0-46e5-923c-5124eeeb9276"
      },
      "source": [
        "data.value.quantile(0.975)"
      ],
      "execution_count": null,
      "outputs": [
        {
          "output_type": "execute_result",
          "data": {
            "text/plain": [
              "177613.075"
            ]
          },
          "metadata": {
            "tags": []
          },
          "execution_count": 296
        }
      ]
    },
    {
      "cell_type": "code",
      "metadata": {
        "id": "2iSomF8nnuAr",
        "colab_type": "code",
        "colab": {
          "base_uri": "https://localhost:8080/",
          "height": 303
        },
        "outputId": "3923a586-9bcf-4808-cc83-193424c1786c"
      },
      "source": [
        "data.describe().round(0)"
      ],
      "execution_count": null,
      "outputs": [
        {
          "output_type": "execute_result",
          "data": {
            "text/html": [
              "<div>\n",
              "<style scoped>\n",
              "    .dataframe tbody tr th:only-of-type {\n",
              "        vertical-align: middle;\n",
              "    }\n",
              "\n",
              "    .dataframe tbody tr th {\n",
              "        vertical-align: top;\n",
              "    }\n",
              "\n",
              "    .dataframe thead th {\n",
              "        text-align: right;\n",
              "    }\n",
              "</style>\n",
              "<table border=\"1\" class=\"dataframe\">\n",
              "  <thead>\n",
              "    <tr style=\"text-align: right;\">\n",
              "      <th></th>\n",
              "      <th>value</th>\n",
              "    </tr>\n",
              "  </thead>\n",
              "  <tbody>\n",
              "    <tr>\n",
              "      <th>count</th>\n",
              "      <td>1304.0</td>\n",
              "    </tr>\n",
              "    <tr>\n",
              "      <th>mean</th>\n",
              "      <td>67221.0</td>\n",
              "    </tr>\n",
              "    <tr>\n",
              "      <th>std</th>\n",
              "      <td>59340.0</td>\n",
              "    </tr>\n",
              "    <tr>\n",
              "      <th>min</th>\n",
              "      <td>1201.0</td>\n",
              "    </tr>\n",
              "    <tr>\n",
              "      <th>25%</th>\n",
              "      <td>35758.0</td>\n",
              "    </tr>\n",
              "    <tr>\n",
              "      <th>50%</th>\n",
              "      <td>57198.0</td>\n",
              "    </tr>\n",
              "    <tr>\n",
              "      <th>75%</th>\n",
              "      <td>83883.0</td>\n",
              "    </tr>\n",
              "    <tr>\n",
              "      <th>max</th>\n",
              "      <td>1173655.0</td>\n",
              "    </tr>\n",
              "  </tbody>\n",
              "</table>\n",
              "</div>"
            ],
            "text/plain": [
              "           value\n",
              "count     1304.0\n",
              "mean     67221.0\n",
              "std      59340.0\n",
              "min       1201.0\n",
              "25%      35758.0\n",
              "50%      57198.0\n",
              "75%      83883.0\n",
              "max    1173655.0"
            ]
          },
          "metadata": {
            "tags": []
          },
          "execution_count": 297
        }
      ]
    },
    {
      "cell_type": "code",
      "metadata": {
        "id": "ajIGAERen5VR",
        "colab_type": "code",
        "colab": {
          "base_uri": "https://localhost:8080/",
          "height": 36
        },
        "outputId": "d7a505a6-16bd-4ba9-a0ef-8e38a11fc250"
      },
      "source": [
        "# * Clean the data by filtering out days when the page views were in the top 2.5% of the dataset or bottom 2.5% of the dataset.\n",
        "\n",
        "requiredFilter = (data.value >=  data.value.quantile(0.025)) & (data.value <=  data.value.quantile(0.975))\n",
        "data = data.loc[requiredFilter,:]\n",
        "data.shape"
      ],
      "execution_count": null,
      "outputs": [
        {
          "output_type": "execute_result",
          "data": {
            "text/plain": [
              "(1238, 1)"
            ]
          },
          "metadata": {
            "tags": []
          },
          "execution_count": 298
        }
      ]
    },
    {
      "cell_type": "code",
      "metadata": {
        "id": "6qYJ26cYo8Qh",
        "colab_type": "code",
        "colab": {
          "base_uri": "https://localhost:8080/",
          "height": 367
        },
        "outputId": "ae36ee98-06c2-469b-ad9f-32f13b0a9d92"
      },
      "source": [
        "# * Create a `draw_line_plot` function that uses Matplotlib to draw a line chart similar to \"examples/Figure_1.png\".\n",
        "# The title should be \"Daily freeCodeCamp Forum Page Views 5/2016-12/2019\".\n",
        "# The label on the x axis should be \"Date\" and the label on the y axis should be \"Page Views\".\n",
        "\n",
        "requiredData = data.loc['2016-05-01':'2019-12-01',:]\n",
        "plt.plot(requiredData.index , requiredData.value)\n",
        "plt.xlabel('Date')\n",
        "plt.ylabel('Page Views')\n",
        "plt.title('Daily freeCodeCamp Forum Page Views 5/2016-12/2019')\n",
        "\n",
        "fig = plt.gcf()\n",
        "fig.set_size_inches(20.5,5.5)\n",
        "fig.autofmt_xdate() \n",
        "\n",
        "\n"
      ],
      "execution_count": null,
      "outputs": [
        {
          "output_type": "display_data",
          "data": {
            "image/png": "[encoded data removed]",
            "text/plain": [
              "<Figure size 1476x396 with 1 Axes>"
            ]
          },
          "metadata": {
            "tags": [],
            "needs_background": "light"
          }
        }
      ]
    },
    {
      "cell_type": "code",
      "metadata": {
        "id": "c3WMGpBPrrE2",
        "colab_type": "code",
        "colab": {
          "base_uri": "https://localhost:8080/",
          "height": 112
        },
        "outputId": "48c5190a-2f99-4ea1-de7d-5da25cb3e254"
      },
      "source": [
        "#* Create a `draw_bar_plot` function that draws a bar chart similar to \"examples/Figure_2.png\".\n",
        "# It should show average daily page views for each month grouped by year.\n",
        "# The legend should show month labels and have a title of \"Months\".\n",
        "# On the chart, the label on the x axis should be \"Years\" and the label on the y axis should be \"Average Page Views\".\n",
        "\n",
        "#Grouping by YEAR AND MONTH and getting mean , (dont use month_name()!)\n",
        "\n",
        "df = data.groupby([data.index.year,data.index.month]).value.mean()\n",
        "df.head(3)\n",
        "\n"
      ],
      "execution_count": null,
      "outputs": [
        {
          "output_type": "execute_result",
          "data": {
            "text/plain": [
              "date  date\n",
              "2016  5       19432.400000\n",
              "      6       21875.105263\n",
              "      7       24109.678571\n",
              "Name: value, dtype: float64"
            ]
          },
          "metadata": {
            "tags": []
          },
          "execution_count": 300
        }
      ]
    },
    {
      "cell_type": "code",
      "metadata": {
        "id": "moZWLowOz1BM",
        "colab_type": "code",
        "colab": {
          "base_uri": "https://localhost:8080/",
          "height": 112
        },
        "outputId": "1274be9c-9274-447e-c17e-637733f48a48"
      },
      "source": [
        "# Renaming Index\n",
        "df.index.rename(['Years','Months'],inplace=True)\n",
        "df.head(3)"
      ],
      "execution_count": null,
      "outputs": [
        {
          "output_type": "execute_result",
          "data": {
            "text/plain": [
              "Years  Months\n",
              "2016   5         19432.400000\n",
              "       6         21875.105263\n",
              "       7         24109.678571\n",
              "Name: value, dtype: float64"
            ]
          },
          "metadata": {
            "tags": []
          },
          "execution_count": 301
        }
      ]
    },
    {
      "cell_type": "code",
      "metadata": {
        "id": "PGOY9JXc_A2t",
        "colab_type": "code",
        "colab": {
          "base_uri": "https://localhost:8080/",
          "height": 177
        },
        "outputId": "0345357d-44a7-4961-c76a-99e18f0c7819"
      },
      "source": [
        "# Unstcking to get DF\n",
        "df = df.unstack()\n",
        "df.head(3)\n"
      ],
      "execution_count": null,
      "outputs": [
        {
          "output_type": "execute_result",
          "data": {
            "text/html": [
              "<div>\n",
              "<style scoped>\n",
              "    .dataframe tbody tr th:only-of-type {\n",
              "        vertical-align: middle;\n",
              "    }\n",
              "\n",
              "    .dataframe tbody tr th {\n",
              "        vertical-align: top;\n",
              "    }\n",
              "\n",
              "    .dataframe thead th {\n",
              "        text-align: right;\n",
              "    }\n",
              "</style>\n",
              "<table border=\"1\" class=\"dataframe\">\n",
              "  <thead>\n",
              "    <tr style=\"text-align: right;\">\n",
              "      <th>Months</th>\n",
              "      <th>1</th>\n",
              "      <th>2</th>\n",
              "      <th>3</th>\n",
              "      <th>4</th>\n",
              "      <th>5</th>\n",
              "      <th>6</th>\n",
              "      <th>7</th>\n",
              "      <th>8</th>\n",
              "      <th>9</th>\n",
              "      <th>10</th>\n",
              "      <th>11</th>\n",
              "      <th>12</th>\n",
              "    </tr>\n",
              "    <tr>\n",
              "      <th>Years</th>\n",
              "      <th></th>\n",
              "      <th></th>\n",
              "      <th></th>\n",
              "      <th></th>\n",
              "      <th></th>\n",
              "      <th></th>\n",
              "      <th></th>\n",
              "      <th></th>\n",
              "      <th></th>\n",
              "      <th></th>\n",
              "      <th></th>\n",
              "      <th></th>\n",
              "    </tr>\n",
              "  </thead>\n",
              "  <tbody>\n",
              "    <tr>\n",
              "      <th>2016</th>\n",
              "      <td>NaN</td>\n",
              "      <td>NaN</td>\n",
              "      <td>NaN</td>\n",
              "      <td>NaN</td>\n",
              "      <td>19432.400000</td>\n",
              "      <td>21875.105263</td>\n",
              "      <td>24109.678571</td>\n",
              "      <td>31049.193548</td>\n",
              "      <td>41476.866667</td>\n",
              "      <td>27398.322581</td>\n",
              "      <td>40448.633333</td>\n",
              "      <td>27832.419355</td>\n",
              "    </tr>\n",
              "    <tr>\n",
              "      <th>2017</th>\n",
              "      <td>32785.161290</td>\n",
              "      <td>31113.071429</td>\n",
              "      <td>29369.096774</td>\n",
              "      <td>30878.733333</td>\n",
              "      <td>34244.290323</td>\n",
              "      <td>43577.500000</td>\n",
              "      <td>65806.838710</td>\n",
              "      <td>47712.451613</td>\n",
              "      <td>47376.800000</td>\n",
              "      <td>47438.709677</td>\n",
              "      <td>57701.566667</td>\n",
              "      <td>48420.580645</td>\n",
              "    </tr>\n",
              "    <tr>\n",
              "      <th>2018</th>\n",
              "      <td>58580.096774</td>\n",
              "      <td>65679.000000</td>\n",
              "      <td>62693.774194</td>\n",
              "      <td>62350.833333</td>\n",
              "      <td>56562.870968</td>\n",
              "      <td>70117.000000</td>\n",
              "      <td>63591.064516</td>\n",
              "      <td>62831.612903</td>\n",
              "      <td>65941.733333</td>\n",
              "      <td>111378.142857</td>\n",
              "      <td>78688.333333</td>\n",
              "      <td>80047.483871</td>\n",
              "    </tr>\n",
              "  </tbody>\n",
              "</table>\n",
              "</div>"
            ],
            "text/plain": [
              "Months            1             2   ...            11            12\n",
              "Years                               ...                            \n",
              "2016             NaN           NaN  ...  40448.633333  27832.419355\n",
              "2017    32785.161290  31113.071429  ...  57701.566667  48420.580645\n",
              "2018    58580.096774  65679.000000  ...  78688.333333  80047.483871\n",
              "\n",
              "[3 rows x 12 columns]"
            ]
          },
          "metadata": {
            "tags": []
          },
          "execution_count": 302
        }
      ]
    },
    {
      "cell_type": "code",
      "metadata": {
        "id": "FQcrqFSU_F9r",
        "colab_type": "code",
        "colab": {
          "base_uri": "https://localhost:8080/",
          "height": 530
        },
        "outputId": "59947255-24b1-45e8-f45d-fd1aaf6abf6f"
      },
      "source": [
        "#Plotting \n",
        "fig = df.plot(kind =\"bar\", legend = True, figsize = (14,8)).figure\n",
        "plt.xlabel(\"Years\", fontsize= 8)\n",
        "plt.ylabel(\"Average Page Views\", fontsize= 8)\n",
        "plt.legend(fontsize = 10, labels = ['January', 'February', 'March', 'April', 'May', 'June', 'July', 'August', 'September', 'October', 'November', 'December'])\n",
        "\n"
      ],
      "execution_count": null,
      "outputs": [
        {
          "output_type": "execute_result",
          "data": {
            "text/plain": [
              "<matplotlib.legend.Legend at 0x7f32291428d0>"
            ]
          },
          "metadata": {
            "tags": []
          },
          "execution_count": 303
        },
        {
          "output_type": "display_data",
          "data": {
            "image/png": "[encoded data removed]",
            "text/plain": [
              "<Figure size 1008x576 with 1 Axes>"
            ]
          },
          "metadata": {
            "tags": [],
            "needs_background": "light"
          }
        }
      ]
    },
    {
      "cell_type": "code",
      "metadata": {
        "id": "O_AORjYG_Nt7",
        "colab_type": "code",
        "colab": {
          "base_uri": "https://localhost:8080/",
          "height": 303
        },
        "outputId": "a18cf941-fb20-45f8-c94a-5256bf6b1fc1"
      },
      "source": [
        "# Create a `draw_box_plot` function that uses Searborn to draw two adjacent box plots similar to \"examples/Figure_3.png\".\n",
        "# These box plots should show how the values are distributed within a given year or month and how it compares over time.\n",
        "# The title of the first chart should be \"Year-wise Box Plot (Trend)\" and the title of the second chart should be \"Month-wise Box Plot (Seasonality)\".\n",
        "# Make sure the month labels on bottom start at \"Jan\" and the x and x axis are labeled correctly.\n",
        "\n",
        "df.describe()"
      ],
      "execution_count": null,
      "outputs": [
        {
          "output_type": "execute_result",
          "data": {
            "text/html": [
              "<div>\n",
              "<style scoped>\n",
              "    .dataframe tbody tr th:only-of-type {\n",
              "        vertical-align: middle;\n",
              "    }\n",
              "\n",
              "    .dataframe tbody tr th {\n",
              "        vertical-align: top;\n",
              "    }\n",
              "\n",
              "    .dataframe thead th {\n",
              "        text-align: right;\n",
              "    }\n",
              "</style>\n",
              "<table border=\"1\" class=\"dataframe\">\n",
              "  <thead>\n",
              "    <tr style=\"text-align: right;\">\n",
              "      <th>Months</th>\n",
              "      <th>1</th>\n",
              "      <th>2</th>\n",
              "      <th>3</th>\n",
              "      <th>4</th>\n",
              "      <th>5</th>\n",
              "      <th>6</th>\n",
              "      <th>7</th>\n",
              "      <th>8</th>\n",
              "      <th>9</th>\n",
              "      <th>10</th>\n",
              "      <th>11</th>\n",
              "      <th>12</th>\n",
              "    </tr>\n",
              "  </thead>\n",
              "  <tbody>\n",
              "    <tr>\n",
              "      <th>count</th>\n",
              "      <td>3.000000</td>\n",
              "      <td>3.000000</td>\n",
              "      <td>3.000000</td>\n",
              "      <td>3.000000</td>\n",
              "      <td>4.000000</td>\n",
              "      <td>4.000000</td>\n",
              "      <td>4.000000</td>\n",
              "      <td>4.000000</td>\n",
              "      <td>4.000000</td>\n",
              "      <td>4.000000</td>\n",
              "      <td>4.000000</td>\n",
              "      <td>4.000000</td>\n",
              "    </tr>\n",
              "    <tr>\n",
              "      <th>mean</th>\n",
              "      <td>64473.924731</td>\n",
              "      <td>67586.809524</td>\n",
              "      <td>61092.451613</td>\n",
              "      <td>60866.000000</td>\n",
              "      <td>50419.866129</td>\n",
              "      <td>56501.312030</td>\n",
              "      <td>62686.037116</td>\n",
              "      <td>61077.642102</td>\n",
              "      <td>63016.058333</td>\n",
              "      <td>77254.361961</td>\n",
              "      <td>80001.240476</td>\n",
              "      <td>76758.495968</td>\n",
              "    </tr>\n",
              "    <tr>\n",
              "      <th>std</th>\n",
              "      <td>35009.756587</td>\n",
              "      <td>37464.092845</td>\n",
              "      <td>30953.774435</td>\n",
              "      <td>29273.107096</td>\n",
              "      <td>31316.940366</td>\n",
              "      <td>30016.244935</td>\n",
              "      <td>29957.931660</td>\n",
              "      <td>30644.599439</td>\n",
              "      <td>25102.027463</td>\n",
              "      <td>46952.608666</td>\n",
              "      <td>44919.368117</td>\n",
              "      <td>53789.457085</td>\n",
              "    </tr>\n",
              "    <tr>\n",
              "      <th>min</th>\n",
              "      <td>32785.161290</td>\n",
              "      <td>31113.071429</td>\n",
              "      <td>29369.096774</td>\n",
              "      <td>30878.733333</td>\n",
              "      <td>19432.400000</td>\n",
              "      <td>21875.105263</td>\n",
              "      <td>24109.678571</td>\n",
              "      <td>31049.193548</td>\n",
              "      <td>41476.866667</td>\n",
              "      <td>27398.322581</td>\n",
              "      <td>40448.633333</td>\n",
              "      <td>27832.419355</td>\n",
              "    </tr>\n",
              "    <tr>\n",
              "      <th>25%</th>\n",
              "      <td>45682.629032</td>\n",
              "      <td>48396.035714</td>\n",
              "      <td>46031.435484</td>\n",
              "      <td>46614.783333</td>\n",
              "      <td>30541.317742</td>\n",
              "      <td>38151.901316</td>\n",
              "      <td>53720.718030</td>\n",
              "      <td>43546.637097</td>\n",
              "      <td>45901.816667</td>\n",
              "      <td>42428.612903</td>\n",
              "      <td>53388.333333</td>\n",
              "      <td>43273.540323</td>\n",
              "    </tr>\n",
              "    <tr>\n",
              "      <th>50%</th>\n",
              "      <td>58580.096774</td>\n",
              "      <td>65679.000000</td>\n",
              "      <td>62693.774194</td>\n",
              "      <td>62350.833333</td>\n",
              "      <td>45403.580645</td>\n",
              "      <td>56847.250000</td>\n",
              "      <td>64698.951613</td>\n",
              "      <td>55272.032258</td>\n",
              "      <td>56659.266667</td>\n",
              "      <td>79408.426267</td>\n",
              "      <td>68194.950000</td>\n",
              "      <td>64234.032258</td>\n",
              "    </tr>\n",
              "    <tr>\n",
              "      <th>75%</th>\n",
              "      <td>80318.306452</td>\n",
              "      <td>85823.678571</td>\n",
              "      <td>76954.129032</td>\n",
              "      <td>75859.633333</td>\n",
              "      <td>65282.129032</td>\n",
              "      <td>75196.660714</td>\n",
              "      <td>73664.270699</td>\n",
              "      <td>72803.037264</td>\n",
              "      <td>73773.508333</td>\n",
              "      <td>114234.175325</td>\n",
              "      <td>94807.857143</td>\n",
              "      <td>97718.987903</td>\n",
              "    </tr>\n",
              "    <tr>\n",
              "      <th>max</th>\n",
              "      <td>102056.516129</td>\n",
              "      <td>105968.357143</td>\n",
              "      <td>91214.483871</td>\n",
              "      <td>89368.433333</td>\n",
              "      <td>91439.903226</td>\n",
              "      <td>90435.642857</td>\n",
              "      <td>97236.566667</td>\n",
              "      <td>102717.310345</td>\n",
              "      <td>97268.833333</td>\n",
              "      <td>122802.272727</td>\n",
              "      <td>143166.428571</td>\n",
              "      <td>150733.500000</td>\n",
              "    </tr>\n",
              "  </tbody>\n",
              "</table>\n",
              "</div>"
            ],
            "text/plain": [
              "Months             1              2   ...             11             12\n",
              "count        3.000000       3.000000  ...       4.000000       4.000000\n",
              "mean     64473.924731   67586.809524  ...   80001.240476   76758.495968\n",
              "std      35009.756587   37464.092845  ...   44919.368117   53789.457085\n",
              "min      32785.161290   31113.071429  ...   40448.633333   27832.419355\n",
              "25%      45682.629032   48396.035714  ...   53388.333333   43273.540323\n",
              "50%      58580.096774   65679.000000  ...   68194.950000   64234.032258\n",
              "75%      80318.306452   85823.678571  ...   94807.857143   97718.987903\n",
              "max     102056.516129  105968.357143  ...  143166.428571  150733.500000\n",
              "\n",
              "[8 rows x 12 columns]"
            ]
          },
          "metadata": {
            "tags": []
          },
          "execution_count": 304
        }
      ]
    },
    {
      "cell_type": "code",
      "metadata": {
        "id": "qxi7xuBndr8b",
        "colab_type": "code",
        "colab": {}
      },
      "source": [
        ""
      ],
      "execution_count": null,
      "outputs": []
    }
  ]
}