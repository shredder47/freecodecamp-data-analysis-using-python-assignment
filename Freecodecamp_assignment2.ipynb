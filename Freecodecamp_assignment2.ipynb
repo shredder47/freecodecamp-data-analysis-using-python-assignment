{
  "nbformat": 4,
  "nbformat_minor": 0,
  "metadata": {
    "colab": {
      "name": "Freecodecamp assignment2.ipynb",
      "provenance": []
    },
    "kernelspec": {
      "name": "python3",
      "display_name": "Python 3"
    }
  },
  "cells": [
    {
      "cell_type": "code",
      "metadata": {
        "id": "yAvHjG2dO0L1",
        "colab_type": "code",
        "colab": {}
      },
      "source": [
        "import pandas as pd"
      ],
      "execution_count": null,
      "outputs": []
    },
    {
      "cell_type": "code",
      "metadata": {
        "id": "Bb2oaexaPT2Z",
        "colab_type": "code",
        "colab": {}
      },
      "source": [
        "df = pd.read_csv('sample_data/adult.data.csv')"
      ],
      "execution_count": null,
      "outputs": []
    },
    {
      "cell_type": "code",
      "metadata": {
        "id": "E8TaXPYAPn-q",
        "colab_type": "code",
        "colab": {}
      },
      "source": [
        "df.head()"
      ],
      "execution_count": null,
      "outputs": []
    },
    {
      "cell_type": "code",
      "metadata": {
        "id": "Qqx1Zo9LxXvQ",
        "colab_type": "code",
        "colab": {
          "base_uri": "https://localhost:8080/",
          "height": 34
        },
        "outputId": "0cdf6592-a983-40a1-9de1-2f1b26214613"
      },
      "source": [
        "# What is the average age of men?\n",
        "menFilter = df['sex'] == 'Male'\n",
        "average_age_men = df.loc[menFilter,'age'].mean()\n",
        "print(average_age_men)"
      ],
      "execution_count": null,
      "outputs": [
        {
          "output_type": "stream",
          "text": [
            "39.43354749885268\n"
          ],
          "name": "stdout"
        }
      ]
    },
    {
      "cell_type": "code",
      "metadata": {
        "id": "AQbtOvtBYk9h",
        "colab_type": "code",
        "colab": {
          "base_uri": "https://localhost:8080/",
          "height": 34
        },
        "outputId": "f51621c3-24ea-4c4a-861e-7c03730c219c"
      },
      "source": [
        "# What is the percentage of people who have a Bachelor's degree?\n",
        "\n",
        "percentage_bachelors = (df['education'].value_counts(normalize=True)['Bachelors']) * 100\n",
        "print(percentage_bachelors)"
      ],
      "execution_count": null,
      "outputs": [
        {
          "output_type": "stream",
          "text": [
            "16.44605509658794\n"
          ],
          "name": "stdout"
        }
      ]
    },
    {
      "cell_type": "code",
      "metadata": {
        "id": "l8tiYaewza12",
        "colab_type": "code",
        "colab": {
          "base_uri": "https://localhost:8080/",
          "height": 34
        },
        "outputId": "2e2debd1-2ae0-4173-fe3e-5f53f760d191"
      },
      "source": [
        "# What percentage of people with advanced education (`Bachelors`, `Masters`, or `Doctorate`) make more than 50K?\n",
        "# What percentage of people without advanced education make more than 50K?\n",
        "# with and without `Bachelors`, `Masters`, or `Doctorate`\n",
        "\n",
        "higherEducationFilter = df['education'].isin([\"Bachelors\", \"Masters\", \"Doctorate\"])\n",
        "\n",
        "higher_education = df.loc[higherEducationFilter]\n",
        "lower_education = df.loc[~higherEducationFilter]\n",
        "\n",
        "# percentage with salary >50K\n",
        "higher_education_rich = higher_education['salary'].value_counts(normalize=True)['>50K'] * 100\n",
        "\n",
        "lower_education_rich = lower_education['salary'].value_counts(normalize=True)['>50K'] * 100"
      ],
      "execution_count": null,
      "outputs": [
        {
          "output_type": "stream",
          "text": [
            "<class 'numpy.float64'>\n"
          ],
          "name": "stdout"
        }
      ]
    },
    {
      "cell_type": "code",
      "metadata": {
        "id": "d_cTl7K60sC3",
        "colab_type": "code",
        "colab": {}
      },
      "source": [
        "# What is the minimum number of hours a person works per week (hours-per-week feature)?\n",
        "min_work_hours = df['hours-per-week'].min()\n",
        "\n",
        "# What percentage of the people who work the minimum number of hours per week have a salary of >50K?\n",
        "minWorkFilter = df['hours-per-week'] == df['hours-per-week'].min()\n",
        "\n",
        "rich_percentage = df.loc[minWorkFilter]['salary'].value_counts(normalize = True)['>50K'] * 100"
      ],
      "execution_count": null,
      "outputs": []
    },
    {
      "cell_type": "code",
      "metadata": {
        "id": "DqjGEdE-5ihs",
        "colab_type": "code",
        "colab": {}
      },
      "source": [
        "# What country has the highest percentage of people that earn >50K?\n",
        "peopleWith50KSalaryFilter = df[\"salary\"] == \">50K\"\n",
        "\n",
        "highest_earning_country = (df.loc[peopleWith50KSalaryFilter,\"native-country\"].value_counts() / df[\"native-country\"].value_counts()).fillna(0).sort_values(ascending=False).index[0]\n",
        "\n",
        "highest_earning_country_percentage = round(len(df[(df[\"native-country\"] == highest_earning_country) & (df[\"salary\"] == \">50K\")]) / len(df[df[\"native-country\"] == highest_earning_country]) * 100, 1)"
      ],
      "execution_count": null,
      "outputs": []
    },
    {
      "cell_type": "code",
      "metadata": {
        "id": "HE3Z16Zs9aPF",
        "colab_type": "code",
        "colab": {
          "base_uri": "https://localhost:8080/",
          "height": 35
        },
        "outputId": "ddd6cce5-8f20-4c83-80df-a56ca8014c69"
      },
      "source": [
        "# Identify the most popular occupation for those who earn >50K in India.\n",
        "indianAnd50KSal = peopleWith50KSalaryFilter & (df['native-country'] == 'India')\n",
        "df.loc[indianAnd50KSal,'occupation'].value_counts().index[0]\n"
      ],
      "execution_count": null,
      "outputs": [
        {
          "output_type": "execute_result",
          "data": {
            "application/vnd.google.colaboratory.intrinsic+json": {
              "type": "string"
            },
            "text/plain": [
              "'Prof-specialty'"
            ]
          },
          "metadata": {
            "tags": []
          },
          "execution_count": 151
        }
      ]
    },
    {
      "cell_type": "code",
      "metadata": {
        "id": "Yf9APg1wBsS6",
        "colab_type": "code",
        "colab": {}
      },
      "source": [
        ""
      ],
      "execution_count": null,
      "outputs": []
    }
  ]
}